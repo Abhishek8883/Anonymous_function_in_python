{
 "cells": [
  {
   "cell_type": "markdown",
   "id": "hybrid-thread",
   "metadata": {},
   "source": [
    "## Registration id : SIRSS 1152\n",
    " \n",
    "## Name : Abhishek Pandey\n",
    "\n",
    "## College Name : Technocrats Institute of Technology(Excellence),Bhopal\n",
    "\n",
    "## Subject : Anonymous function in python "
   ]
  },
  {
   "cell_type": "markdown",
   "id": "overhead-debut",
   "metadata": {},
   "source": [
    "## Q1. Write a lambda expression to extract first word of a string."
   ]
  },
  {
   "cell_type": "code",
   "execution_count": 4,
   "id": "appreciated-accountability",
   "metadata": {},
   "outputs": [
    {
     "name": "stdout",
     "output_type": "stream",
     "text": [
      "Enter a String : I am working on Assignment 2.\n",
      "First word of the string is :  I\n"
     ]
    }
   ],
   "source": [
    "line = input(\"Enter a String : \")\n",
    "\n",
    "output = lambda x: x.split()[0]\n",
    "print(\"First word of the string is : \",output(line))"
   ]
  },
  {
   "cell_type": "markdown",
   "id": "august-attraction",
   "metadata": {},
   "source": [
    "# Q2. Write a function to extract first word of s string (with many words separated by space)."
   ]
  },
  {
   "cell_type": "code",
   "execution_count": 7,
   "id": "eleven-values",
   "metadata": {},
   "outputs": [
    {
     "name": "stdout",
     "output_type": "stream",
     "text": [
      "Enter a String -\n",
      "Learning ML is Fun.\n",
      "\n",
      "First word of String is :Learning\n"
     ]
    }
   ],
   "source": [
    "def f_word(line):\n",
    "    a = line.split()\n",
    "    return a[0]\n",
    "\n",
    "s = input(\"Enter a String -\\n\")\n",
    "\n",
    "print(f\"\\nFirst word of String is :{f_word(s)}\")"
   ]
  },
  {
   "cell_type": "markdown",
   "id": "czech-range",
   "metadata": {},
   "source": [
    "# Q3. Extract the first word from every string from a list of strings by using map function."
   ]
  },
  {
   "cell_type": "code",
   "execution_count": 11,
   "id": "macro-browse",
   "metadata": {},
   "outputs": [
    {
     "name": "stdout",
     "output_type": "stream",
     "text": [
      "How many Strings you want to Enter ?3\n",
      "Enter the 1 string.I love Black.\n",
      "Enter the 2 string.Lamborghini is best.\n",
      "Enter the 3 string.Rolls Royce is Luxury.\n",
      "\n",
      "You have Enter these Strings:['I love Black.', 'Lamborghini is best.', 'Rolls Royce is Luxury.']\n"
     ]
    },
    {
     "data": {
      "text/plain": [
       "['I', 'Lamborghini', 'Rolls']"
      ]
     },
     "execution_count": 11,
     "metadata": {},
     "output_type": "execute_result"
    }
   ],
   "source": [
    "n = int(input(\"How many Strings you want to Enter ?\"))\n",
    "\n",
    "lst =[]\n",
    "for i in range(1,n+1):\n",
    "    inp = input(f\"Enter the {i} string.\")\n",
    "    lst.append(inp)\n",
    "    \n",
    "print(f\"\\nYou have Enter these Strings:{lst}\")\n",
    "\n",
    "list(map(lambda x: x.split()[0],lst))\n",
    "    "
   ]
  },
  {
   "cell_type": "markdown",
   "id": "moderate-willow",
   "metadata": {},
   "source": [
    "# Q4. Write a function to return a list of prime factors of a given number."
   ]
  },
  {
   "cell_type": "code",
   "execution_count": 12,
   "id": "suburban-badge",
   "metadata": {},
   "outputs": [],
   "source": [
    "def prime(n) :\n",
    "    if n == 0 or n == 1 :\n",
    "        return False\n",
    "\n",
    "    else :\n",
    "        m = int(n**0.5)\n",
    "        for i in range(2, m+1) :\n",
    "            if n % i == 0 :\n",
    "                return False\n",
    "                break\n",
    "        else :\n",
    "            return True"
   ]
  },
  {
   "cell_type": "code",
   "execution_count": 17,
   "id": "coastal-buying",
   "metadata": {},
   "outputs": [
    {
     "name": "stdout",
     "output_type": "stream",
     "text": [
      "Enter the number:52\n"
     ]
    },
    {
     "data": {
      "text/plain": [
       "[2, 2, 13]"
      ]
     },
     "execution_count": 17,
     "metadata": {},
     "output_type": "execute_result"
    }
   ],
   "source": [
    "def p_Fact(n):\n",
    "    fact = []\n",
    "    i = 2\n",
    "    while n>1 :\n",
    "        if n % i == 0 and prime(i) :\n",
    "            fact.append(i)\n",
    "            n = n // i\n",
    "        else : \n",
    "            i += 1\n",
    "    return fact\n",
    "\n",
    "p_Fact(int(input(\"Enter the number:\")))"
   ]
  },
  {
   "cell_type": "markdown",
   "id": "natural-villa",
   "metadata": {},
   "source": [
    "# Q5. Write a function that finds 2nd largest among 4 numbers (Repetitions are allowed,without sorting)."
   ]
  },
  {
   "cell_type": "code",
   "execution_count": 20,
   "id": "dependent-magic",
   "metadata": {},
   "outputs": [
    {
     "name": "stdout",
     "output_type": "stream",
     "text": [
      "Enter the numbers separated by spaces . 4 6 5 2\n",
      "Second largest number is :5\n"
     ]
    }
   ],
   "source": [
    "\n",
    "n = input(\"Enter the numbers separated by spaces . \")\n",
    "\n",
    "lst = list(map(int, n.split()))\n",
    "\n",
    "big, sec_big = -1, -1\n",
    "for i in lst:\n",
    "    if (i > big):\n",
    "        big, sec_big = i, big\n",
    "    elif (i < big and i > sec_big):\n",
    "        sec_big = i\n",
    "print (f\"Second largest number is :{sec_big}\")\n"
   ]
  },
  {
   "cell_type": "code",
   "execution_count": null,
   "id": "protecting-blink",
   "metadata": {},
   "outputs": [],
   "source": []
  }
 ],
 "metadata": {
  "kernelspec": {
   "display_name": "Python 3",
   "language": "python",
   "name": "python3"
  },
  "language_info": {
   "codemirror_mode": {
    "name": "ipython",
    "version": 3
   },
   "file_extension": ".py",
   "mimetype": "text/x-python",
   "name": "python",
   "nbconvert_exporter": "python",
   "pygments_lexer": "ipython3",
   "version": "3.9.0"
  }
 },
 "nbformat": 4,
 "nbformat_minor": 5
}
